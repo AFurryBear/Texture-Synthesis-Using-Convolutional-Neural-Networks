{
 "cells": [
  {
   "cell_type": "code",
   "execution_count": 1,
   "metadata": {},
   "outputs": [],
   "source": [
    "from PIL import Image\n",
    "import numpy as np\n",
    "import os"
   ]
  },
  {
   "cell_type": "code",
   "execution_count": 2,
   "metadata": {},
   "outputs": [],
   "source": [
    "def apply_mask(image_array):\n",
    "    # Ensure the image array is square\n",
    "    height = image_array.shape[0]\n",
    "    width = image_array.shape[1]\n",
    "    if height != width:\n",
    "        raise ValueError(\"Image array must be square (n x n pixels).\")\n",
    "\n",
    "    # Create a circular mask\n",
    "    radius = width // 2\n",
    "    Y, X = np.ogrid[:height, :width]\n",
    "    dist_from_center = np.sqrt((X+.5 - width / 2) ** 2 + (Y+.5 - height / 2) ** 2)\n",
    "    mask = dist_from_center <= radius\n",
    "\n",
    "    # Initialize an image array with an alpha channel\n",
    "    masked_img = np.zeros((height, width), dtype=np.int8)  # 4 channels: R, G, B, and Alpha\n",
    "\n",
    "\n",
    "    # Apply the mask to the alpha channel\n",
    "    masked_img = image_array*mask\n",
    "    return masked_img"
   ]
  },
  {
   "cell_type": "code",
   "execution_count": 3,
   "metadata": {},
   "outputs": [],
   "source": [
    "def intensity_match(texture_array, output_array):\n",
    "    \n",
    "    new_output = np.zeros(output_array.shape,dtype=texture_array.dtype)\n",
    "    texture_data = texture_array.flatten()\n",
    "    output_data = output_array.flatten()\n",
    "    \n",
    "    sorted_output = np.argsort(output_data)\n",
    "    sorted_texture = np.argsort(texture_data)\n",
    "    \n",
    "    new_output_data = np.zeros(output_data.shape,dtype=texture_array.dtype)\n",
    "    new_output_data[sorted_output] = texture_data[sorted_texture]\n",
    "    \n",
    "    new_output = new_output_data.reshape(output_array.shape)\n",
    "\n",
    "    return new_output"
   ]
  },
  {
   "cell_type": "code",
   "execution_count": 4,
   "metadata": {},
   "outputs": [],
   "source": [
    "def post_process(reference_pgm, generated_jpg):\n",
    "    img_0 = Image.open(reference_pgm)\n",
    "    img_0_array = np.array(img_0)\n",
    "    img_1 = Image.open(generated_jpg)\n",
    "    img_1_array = np.array(img_1)\n",
    "    img_1_array = img_1_array[:,:,0]\n",
    "    img0_masked = apply_mask(img_0_array)\n",
    "    img1_masked = apply_mask(img_1_array)\n",
    "    img1_matched = intensity_match(img0_masked,img1_masked)\n",
    "    ref_masked = Image.fromarray(img0_masked)\n",
    "    ref_masked.save(os.path.splitext(reference_pgm)[0]+'_masked.pgm')\n",
    "    gen_masked = Image.fromarray(img1_masked)\n",
    "    gen_masked.save(os.path.splitext(generated_jpg)[0]+'_masked.pgm')\n",
    "    gen_matched = Image.fromarray(img1_matched)\n",
    "    gen_matched.save(os.path.splitext(generated_jpg)[0]+'_matched.pgm')"
   ]
  },
  {
   "cell_type": "code",
   "execution_count": 5,
   "metadata": {},
   "outputs": [],
   "source": [
    "for i in [2,4,8]:\n",
    "    input_file = \"./image_resources/processed/rock-0_processed_1%d.pgm\"%i\n",
    "    for h in range(3):\n",
    "        output_file = \"./image_resources/outputs/rock-0_%d_%d_C5_final.jpg\"%(h,i)\n",
    "        post_process(input_file, output_file)"
   ]
  }
 ],
 "metadata": {
  "kernelspec": {
   "display_name": ".venv",
   "language": "python",
   "name": "python3"
  },
  "language_info": {
   "codemirror_mode": {
    "name": "ipython",
    "version": 3
   },
   "file_extension": ".py",
   "mimetype": "text/x-python",
   "name": "python",
   "nbconvert_exporter": "python",
   "pygments_lexer": "ipython3",
   "version": "3.6.9"
  }
 },
 "nbformat": 4,
 "nbformat_minor": 2
}
